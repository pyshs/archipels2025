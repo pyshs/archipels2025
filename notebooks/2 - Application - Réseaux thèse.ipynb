{
 "cells": [
  {
   "cell_type": "markdown",
   "id": "93c186f2",
   "metadata": {},
   "source": [
    "# Réseaux à partir des thèses soutenues en France"
   ]
  },
  {
   "cell_type": "markdown",
   "id": "ce5eb42a",
   "metadata": {},
   "source": [
    "Un jeu de données public et disponible : https://www.data.gouv.fr/datasets/theses-soutenues-en-france-depuis-1985/\n",
    "\n",
    "Trois étapes :\n",
    "\n",
    "- Découvrir le jeu de données et filtrer un sous-ensemble\n",
    "- Construire un réseau de co-direction\n",
    "- Analyser le réseau de co-direction"
   ]
  },
  {
   "cell_type": "markdown",
   "id": "44e2eedb",
   "metadata": {},
   "source": [
    "## Explorer le jeu de données\n",
    "\n",
    "Astuce : ne charger qu'une partie si besoin au moins au début pour faire le traitement"
   ]
  },
  {
   "cell_type": "code",
   "execution_count": 2,
   "id": "844d3932",
   "metadata": {},
   "outputs": [],
   "source": [
    "import pandas as pd"
   ]
  },
  {
   "cell_type": "code",
   "execution_count": null,
   "id": "d617abcd",
   "metadata": {},
   "outputs": [],
   "source": [
    "df = pd.read_csv(\"theses-soutenues.csv\", low_memory=False)\n",
    "df.shape"
   ]
  },
  {
   "cell_type": "code",
   "execution_count": 5,
   "id": "1ecba217",
   "metadata": {},
   "outputs": [
    {
     "data": {
      "text/html": [
       "<div>\n",
       "<style scoped>\n",
       "    .dataframe tbody tr th:only-of-type {\n",
       "        vertical-align: middle;\n",
       "    }\n",
       "\n",
       "    .dataframe tbody tr th {\n",
       "        vertical-align: top;\n",
       "    }\n",
       "\n",
       "    .dataframe thead th {\n",
       "        text-align: right;\n",
       "    }\n",
       "</style>\n",
       "<table border=\"1\" class=\"dataframe\">\n",
       "  <thead>\n",
       "    <tr style=\"text-align: right;\">\n",
       "      <th></th>\n",
       "      <th>accessible</th>\n",
       "      <th>auteur.idref</th>\n",
       "      <th>auteur.nom</th>\n",
       "      <th>auteur.prenom</th>\n",
       "      <th>cas</th>\n",
       "      <th>code_etab</th>\n",
       "      <th>date_soutenance</th>\n",
       "      <th>directeurs_these.0.idref</th>\n",
       "      <th>directeurs_these.0.nom</th>\n",
       "      <th>directeurs_these.0.prenom</th>\n",
       "      <th>...</th>\n",
       "      <th>sujets_rameau.7</th>\n",
       "      <th>sujets_rameau.8</th>\n",
       "      <th>sujets_rameau.9</th>\n",
       "      <th>these_sur_travaux</th>\n",
       "      <th>titres.autre.0</th>\n",
       "      <th>titres.autre.1</th>\n",
       "      <th>titres.autre.2</th>\n",
       "      <th>titres.autre.3</th>\n",
       "      <th>titres.en</th>\n",
       "      <th>titres.fr</th>\n",
       "    </tr>\n",
       "  </thead>\n",
       "  <tbody>\n",
       "    <tr>\n",
       "      <th>0</th>\n",
       "      <td>non</td>\n",
       "      <td>035294140</td>\n",
       "      <td>Quartararo</td>\n",
       "      <td>Juliette</td>\n",
       "      <td>NaN</td>\n",
       "      <td>PA06</td>\n",
       "      <td>1996-01-01</td>\n",
       "      <td>130245933</td>\n",
       "      <td>Kasztelan</td>\n",
       "      <td>Slavik</td>\n",
       "      <td>...</td>\n",
       "      <td>Sulfures métalliques</td>\n",
       "      <td>Catalyseurs -- Analyse</td>\n",
       "      <td>Hydrotraitement</td>\n",
       "      <td>non</td>\n",
       "      <td>NaN</td>\n",
       "      <td>NaN</td>\n",
       "      <td>NaN</td>\n",
       "      <td>NaN</td>\n",
       "      <td>NaN</td>\n",
       "      <td>Reactivite de sulfures mixtes supportes non co...</td>\n",
       "    </tr>\n",
       "    <tr>\n",
       "      <th>1</th>\n",
       "      <td>non</td>\n",
       "      <td>132450372</td>\n",
       "      <td>Kyselková</td>\n",
       "      <td>Martina</td>\n",
       "      <td>NaN</td>\n",
       "      <td>LYO1</td>\n",
       "      <td>2008-01-01</td>\n",
       "      <td>124874657</td>\n",
       "      <td>Moënne-Loccoz</td>\n",
       "      <td>Yvan</td>\n",
       "      <td>...</td>\n",
       "      <td>NaN</td>\n",
       "      <td>NaN</td>\n",
       "      <td>NaN</td>\n",
       "      <td>non</td>\n",
       "      <td>NaN</td>\n",
       "      <td>NaN</td>\n",
       "      <td>NaN</td>\n",
       "      <td>NaN</td>\n",
       "      <td>Caractérisation par puce à ADN taxonomique de ...</td>\n",
       "      <td>NaN</td>\n",
       "    </tr>\n",
       "    <tr>\n",
       "      <th>2</th>\n",
       "      <td>non</td>\n",
       "      <td>122277732</td>\n",
       "      <td>Skrzypczak</td>\n",
       "      <td>Alexandre</td>\n",
       "      <td>NaN</td>\n",
       "      <td>REN1</td>\n",
       "      <td>2007-01-01</td>\n",
       "      <td>068762852</td>\n",
       "      <td>Palicot</td>\n",
       "      <td>Jacques</td>\n",
       "      <td>...</td>\n",
       "      <td>NaN</td>\n",
       "      <td>NaN</td>\n",
       "      <td>NaN</td>\n",
       "      <td>non</td>\n",
       "      <td>NaN</td>\n",
       "      <td>NaN</td>\n",
       "      <td>NaN</td>\n",
       "      <td>NaN</td>\n",
       "      <td>Contribution to the study of the OFDM / OQAM a...</td>\n",
       "      <td>Contribution à l'étude des modulations multipo...</td>\n",
       "    </tr>\n",
       "    <tr>\n",
       "      <th>3</th>\n",
       "      <td>non</td>\n",
       "      <td>NaN</td>\n",
       "      <td>AMARGER</td>\n",
       "      <td>VERONIQUE</td>\n",
       "      <td>NaN</td>\n",
       "      <td>PA07</td>\n",
       "      <td>1993-01-01</td>\n",
       "      <td>089062388</td>\n",
       "      <td>L'Hoir</td>\n",
       "      <td>Alain</td>\n",
       "      <td>...</td>\n",
       "      <td>NaN</td>\n",
       "      <td>NaN</td>\n",
       "      <td>NaN</td>\n",
       "      <td>non</td>\n",
       "      <td>NaN</td>\n",
       "      <td>NaN</td>\n",
       "      <td>NaN</td>\n",
       "      <td>NaN</td>\n",
       "      <td>Optimization and comparison of self-aligned te...</td>\n",
       "      <td>Optimisation et comparaison de technologies au...</td>\n",
       "    </tr>\n",
       "    <tr>\n",
       "      <th>4</th>\n",
       "      <td>non</td>\n",
       "      <td>197128149</td>\n",
       "      <td>Catanzariti</td>\n",
       "      <td>Jean François</td>\n",
       "      <td>NaN</td>\n",
       "      <td>LIL2</td>\n",
       "      <td>1994-01-01</td>\n",
       "      <td>059910968</td>\n",
       "      <td>Delcambre</td>\n",
       "      <td>Bernard</td>\n",
       "      <td>...</td>\n",
       "      <td>NaN</td>\n",
       "      <td>NaN</td>\n",
       "      <td>NaN</td>\n",
       "      <td>non</td>\n",
       "      <td>NaN</td>\n",
       "      <td>NaN</td>\n",
       "      <td>NaN</td>\n",
       "      <td>NaN</td>\n",
       "      <td>NaN</td>\n",
       "      <td>Les troubles oculomoteurs dans la scoliose idi...</td>\n",
       "    </tr>\n",
       "  </tbody>\n",
       "</table>\n",
       "<p>5 rows × 213 columns</p>\n",
       "</div>"
      ],
      "text/plain": [
       "  accessible auteur.idref   auteur.nom  auteur.prenom  cas code_etab  \\\n",
       "0        non    035294140   Quartararo       Juliette  NaN      PA06   \n",
       "1        non    132450372    Kyselková        Martina  NaN      LYO1   \n",
       "2        non    122277732   Skrzypczak      Alexandre  NaN      REN1   \n",
       "3        non          NaN      AMARGER      VERONIQUE  NaN      PA07   \n",
       "4        non    197128149  Catanzariti  Jean François  NaN      LIL2   \n",
       "\n",
       "  date_soutenance directeurs_these.0.idref directeurs_these.0.nom  \\\n",
       "0      1996-01-01                130245933              Kasztelan   \n",
       "1      2008-01-01                124874657          Moënne-Loccoz   \n",
       "2      2007-01-01                068762852                Palicot   \n",
       "3      1993-01-01                089062388                 L'Hoir   \n",
       "4      1994-01-01                059910968              Delcambre   \n",
       "\n",
       "  directeurs_these.0.prenom  ...       sujets_rameau.7  \\\n",
       "0                    Slavik  ...  Sulfures métalliques   \n",
       "1                      Yvan  ...                   NaN   \n",
       "2                   Jacques  ...                   NaN   \n",
       "3                     Alain  ...                   NaN   \n",
       "4                   Bernard  ...                   NaN   \n",
       "\n",
       "          sujets_rameau.8  sujets_rameau.9 these_sur_travaux titres.autre.0  \\\n",
       "0  Catalyseurs -- Analyse  Hydrotraitement               non            NaN   \n",
       "1                     NaN              NaN               non            NaN   \n",
       "2                     NaN              NaN               non            NaN   \n",
       "3                     NaN              NaN               non            NaN   \n",
       "4                     NaN              NaN               non            NaN   \n",
       "\n",
       "  titres.autre.1 titres.autre.2 titres.autre.3  \\\n",
       "0            NaN            NaN            NaN   \n",
       "1            NaN            NaN            NaN   \n",
       "2            NaN            NaN            NaN   \n",
       "3            NaN            NaN            NaN   \n",
       "4            NaN            NaN            NaN   \n",
       "\n",
       "                                           titres.en  \\\n",
       "0                                                NaN   \n",
       "1  Caractérisation par puce à ADN taxonomique de ...   \n",
       "2  Contribution to the study of the OFDM / OQAM a...   \n",
       "3  Optimization and comparison of self-aligned te...   \n",
       "4                                                NaN   \n",
       "\n",
       "                                           titres.fr  \n",
       "0  Reactivite de sulfures mixtes supportes non co...  \n",
       "1                                                NaN  \n",
       "2  Contribution à l'étude des modulations multipo...  \n",
       "3  Optimisation et comparaison de technologies au...  \n",
       "4  Les troubles oculomoteurs dans la scoliose idi...  \n",
       "\n",
       "[5 rows x 213 columns]"
      ]
     },
     "execution_count": 5,
     "metadata": {},
     "output_type": "execute_result"
    }
   ],
   "source": [
    "df.head()"
   ]
  },
  {
   "cell_type": "code",
   "execution_count": 1,
   "id": "e75b4163",
   "metadata": {},
   "outputs": [],
   "source": [
    "#list(df.columns)"
   ]
  },
  {
   "cell_type": "markdown",
   "id": "829f2225",
   "metadata": {},
   "source": [
    "Réduire le jeu de données \n",
    "\n",
    "- Après les années 2000\n",
    "- uniquement sur certaines thématiques (sociologie)"
   ]
  },
  {
   "cell_type": "markdown",
   "id": "b67d49b4",
   "metadata": {},
   "source": [
    "Ajouter une feature année et réduire"
   ]
  },
  {
   "cell_type": "code",
   "execution_count": 6,
   "id": "bc05729e",
   "metadata": {},
   "outputs": [],
   "source": [
    "df[\"annee\"] = df[\"date_soutenance\"].apply(lambda x: None if x is None else str(x).split(\"-\")[0])\n",
    "df[\"annee\"] = pd.to_numeric(df[\"annee\"], errors='coerce')\n",
    "df_ss = df[df[\"annee\"] > 2000]"
   ]
  },
  {
   "cell_type": "markdown",
   "id": "f8901929",
   "metadata": {},
   "source": [
    "Construire la colonne des co-directions"
   ]
  },
  {
   "cell_type": "code",
   "execution_count": 7,
   "id": "19613c0b",
   "metadata": {},
   "outputs": [
    {
     "name": "stderr",
     "output_type": "stream",
     "text": [
      "/var/folders/f9/d2d_05ws5gncmml0fx0c00kw0000gp/T/ipykernel_51617/617968191.py:2: SettingWithCopyWarning: \n",
      "A value is trying to be set on a copy of a slice from a DataFrame.\n",
      "Try using .loc[row_indexer,col_indexer] = value instead\n",
      "\n",
      "See the caveats in the documentation: https://pandas.pydata.org/pandas-docs/stable/user_guide/indexing.html#returning-a-view-versus-a-copy\n",
      "  df_ss[\"id_dir\"] = df_ss[liste_dir].apply(lambda x: x.dropna().tolist(), axis=1)\n"
     ]
    }
   ],
   "source": [
    "liste_dir = [f\"directeurs_these.{i}.idref\" for i in range(0, 7)]\n",
    "df_ss[\"id_dir\"] = df_ss[liste_dir].apply(lambda x: x.dropna().tolist(), axis=1)"
   ]
  },
  {
   "cell_type": "markdown",
   "id": "fe8273cb",
   "metadata": {},
   "source": [
    "Construire un dictionnaire id > nom"
   ]
  },
  {
   "cell_type": "code",
   "execution_count": 16,
   "id": "1000d149",
   "metadata": {},
   "outputs": [],
   "source": [
    "dic_dir = df.drop_duplicates(subset=[\"directeurs_these.0.idref\"])[[\"directeurs_these.0.idref\",\"directeurs_these.0.nom\",\"directeurs_these.0.prenom\"]]\n",
    "dic_dir = dic_dir.set_index(\"directeurs_these.0.idref\")\n",
    "dic_dir[\"directeur\"] = dic_dir[\"directeurs_these.0.nom\"] + \"_\" + dic_dir[\"directeurs_these.0.prenom\"]\n",
    "dic_dir = dic_dir[\"directeur\"].to_dict()"
   ]
  },
  {
   "cell_type": "markdown",
   "id": "ca302476",
   "metadata": {},
   "source": [
    "Filtrer uniquement sur une discipline"
   ]
  },
  {
   "cell_type": "code",
   "execution_count": 8,
   "id": "2f533af9",
   "metadata": {},
   "outputs": [
    {
     "name": "stderr",
     "output_type": "stream",
     "text": [
      "/var/folders/f9/d2d_05ws5gncmml0fx0c00kw0000gp/T/ipykernel_51617/2292188866.py:2: UserWarning: Boolean Series key will be reindexed to match DataFrame index.\n",
      "  df_ss2 = df_ss[f]\n"
     ]
    }
   ],
   "source": [
    "f = df[\"discipline\"].str.lower().str.contains(\"sociol\")\n",
    "df_ss2 = df_ss[f]"
   ]
  },
  {
   "cell_type": "code",
   "execution_count": 12,
   "id": "94c9ab02",
   "metadata": {},
   "outputs": [
    {
     "data": {
      "text/html": [
       "<div>\n",
       "<style scoped>\n",
       "    .dataframe tbody tr th:only-of-type {\n",
       "        vertical-align: middle;\n",
       "    }\n",
       "\n",
       "    .dataframe tbody tr th {\n",
       "        vertical-align: top;\n",
       "    }\n",
       "\n",
       "    .dataframe thead th {\n",
       "        text-align: right;\n",
       "    }\n",
       "</style>\n",
       "<table border=\"1\" class=\"dataframe\">\n",
       "  <thead>\n",
       "    <tr style=\"text-align: right;\">\n",
       "      <th></th>\n",
       "      <th>accessible</th>\n",
       "      <th>auteur.idref</th>\n",
       "      <th>auteur.nom</th>\n",
       "      <th>auteur.prenom</th>\n",
       "      <th>cas</th>\n",
       "      <th>code_etab</th>\n",
       "      <th>date_soutenance</th>\n",
       "      <th>directeurs_these.0.idref</th>\n",
       "      <th>directeurs_these.0.nom</th>\n",
       "      <th>directeurs_these.0.prenom</th>\n",
       "      <th>...</th>\n",
       "      <th>sujets_rameau.9</th>\n",
       "      <th>these_sur_travaux</th>\n",
       "      <th>titres.autre.0</th>\n",
       "      <th>titres.autre.1</th>\n",
       "      <th>titres.autre.2</th>\n",
       "      <th>titres.autre.3</th>\n",
       "      <th>titres.en</th>\n",
       "      <th>titres.fr</th>\n",
       "      <th>annee</th>\n",
       "      <th>id_dir</th>\n",
       "    </tr>\n",
       "  </thead>\n",
       "  <tbody>\n",
       "    <tr>\n",
       "      <th>36</th>\n",
       "      <td>non</td>\n",
       "      <td>138977119</td>\n",
       "      <td>Aires Filho</td>\n",
       "      <td>Benaias</td>\n",
       "      <td>NaN</td>\n",
       "      <td>EHES</td>\n",
       "      <td>2003-01-01</td>\n",
       "      <td>026960877</td>\n",
       "      <td>Lagrave</td>\n",
       "      <td>Rose-Marie</td>\n",
       "      <td>...</td>\n",
       "      <td>NaN</td>\n",
       "      <td>non</td>\n",
       "      <td>NaN</td>\n",
       "      <td>NaN</td>\n",
       "      <td>NaN</td>\n",
       "      <td>NaN</td>\n",
       "      <td>One example of conservative modernization : th...</td>\n",
       "      <td>Un exemple de modernisation conservatrice : l'...</td>\n",
       "      <td>2003.0</td>\n",
       "      <td>[026960877]</td>\n",
       "    </tr>\n",
       "    <tr>\n",
       "      <th>347</th>\n",
       "      <td>non</td>\n",
       "      <td>057215979</td>\n",
       "      <td>Courtebras</td>\n",
       "      <td>Bernard</td>\n",
       "      <td>NaN</td>\n",
       "      <td>LYO2</td>\n",
       "      <td>2005-01-01</td>\n",
       "      <td>027187152</td>\n",
       "      <td>Vincent</td>\n",
       "      <td>Guy</td>\n",
       "      <td>...</td>\n",
       "      <td>NaN</td>\n",
       "      <td>non</td>\n",
       "      <td>NaN</td>\n",
       "      <td>NaN</td>\n",
       "      <td>NaN</td>\n",
       "      <td>NaN</td>\n",
       "      <td>NaN</td>\n",
       "      <td>Socialisation et performances mathématiques : ...</td>\n",
       "      <td>2005.0</td>\n",
       "      <td>[027187152]</td>\n",
       "    </tr>\n",
       "    <tr>\n",
       "      <th>399</th>\n",
       "      <td>non</td>\n",
       "      <td>158358953</td>\n",
       "      <td>Bob</td>\n",
       "      <td>Ibrahima</td>\n",
       "      <td>NaN</td>\n",
       "      <td>AMIE</td>\n",
       "      <td>2009-01-01</td>\n",
       "      <td>027011119</td>\n",
       "      <td>Marouf</td>\n",
       "      <td>Nadir</td>\n",
       "      <td>...</td>\n",
       "      <td>NaN</td>\n",
       "      <td>non</td>\n",
       "      <td>NaN</td>\n",
       "      <td>NaN</td>\n",
       "      <td>NaN</td>\n",
       "      <td>NaN</td>\n",
       "      <td>Urban women's participative strategies in the ...</td>\n",
       "      <td>Les stratégies participatives des femmes urbai...</td>\n",
       "      <td>2009.0</td>\n",
       "      <td>[027011119]</td>\n",
       "    </tr>\n",
       "    <tr>\n",
       "      <th>494</th>\n",
       "      <td>non</td>\n",
       "      <td>05986320X</td>\n",
       "      <td>Doumenc Sakir</td>\n",
       "      <td>Colette</td>\n",
       "      <td>NaN</td>\n",
       "      <td>STR2</td>\n",
       "      <td>2001-01-01</td>\n",
       "      <td>028296591</td>\n",
       "      <td>Guth</td>\n",
       "      <td>Suzie</td>\n",
       "      <td>...</td>\n",
       "      <td>NaN</td>\n",
       "      <td>non</td>\n",
       "      <td>NaN</td>\n",
       "      <td>NaN</td>\n",
       "      <td>NaN</td>\n",
       "      <td>NaN</td>\n",
       "      <td>Education and social stratification : the Hind...</td>\n",
       "      <td>Education et stratification sociale : les comm...</td>\n",
       "      <td>2001.0</td>\n",
       "      <td>[028296591]</td>\n",
       "    </tr>\n",
       "    <tr>\n",
       "      <th>737</th>\n",
       "      <td>non</td>\n",
       "      <td>130180726</td>\n",
       "      <td>Diop</td>\n",
       "      <td>Moussa</td>\n",
       "      <td>NaN</td>\n",
       "      <td>PA09</td>\n",
       "      <td>2008-01-01</td>\n",
       "      <td>029291232</td>\n",
       "      <td>Trinh</td>\n",
       "      <td>Sylvaine</td>\n",
       "      <td>...</td>\n",
       "      <td>NaN</td>\n",
       "      <td>non</td>\n",
       "      <td>NaN</td>\n",
       "      <td>NaN</td>\n",
       "      <td>NaN</td>\n",
       "      <td>NaN</td>\n",
       "      <td>Water and development : scales, temporalities,...</td>\n",
       "      <td>Eau et Développement : Échelles, temporalités,...</td>\n",
       "      <td>2008.0</td>\n",
       "      <td>[029291232]</td>\n",
       "    </tr>\n",
       "  </tbody>\n",
       "</table>\n",
       "<p>5 rows × 215 columns</p>\n",
       "</div>"
      ],
      "text/plain": [
       "    accessible auteur.idref     auteur.nom auteur.prenom  cas code_etab  \\\n",
       "36         non    138977119    Aires Filho       Benaias  NaN      EHES   \n",
       "347        non    057215979     Courtebras       Bernard  NaN      LYO2   \n",
       "399        non    158358953            Bob      Ibrahima  NaN      AMIE   \n",
       "494        non    05986320X  Doumenc Sakir       Colette  NaN      STR2   \n",
       "737        non    130180726           Diop        Moussa  NaN      PA09   \n",
       "\n",
       "    date_soutenance directeurs_these.0.idref directeurs_these.0.nom  \\\n",
       "36       2003-01-01                026960877                Lagrave   \n",
       "347      2005-01-01                027187152                Vincent   \n",
       "399      2009-01-01                027011119                 Marouf   \n",
       "494      2001-01-01                028296591                   Guth   \n",
       "737      2008-01-01                029291232                  Trinh   \n",
       "\n",
       "    directeurs_these.0.prenom  ... sujets_rameau.9 these_sur_travaux  \\\n",
       "36                 Rose-Marie  ...             NaN               non   \n",
       "347                       Guy  ...             NaN               non   \n",
       "399                     Nadir  ...             NaN               non   \n",
       "494                     Suzie  ...             NaN               non   \n",
       "737                  Sylvaine  ...             NaN               non   \n",
       "\n",
       "    titres.autre.0 titres.autre.1 titres.autre.2 titres.autre.3  \\\n",
       "36             NaN            NaN            NaN            NaN   \n",
       "347            NaN            NaN            NaN            NaN   \n",
       "399            NaN            NaN            NaN            NaN   \n",
       "494            NaN            NaN            NaN            NaN   \n",
       "737            NaN            NaN            NaN            NaN   \n",
       "\n",
       "                                             titres.en  \\\n",
       "36   One example of conservative modernization : th...   \n",
       "347                                                NaN   \n",
       "399  Urban women's participative strategies in the ...   \n",
       "494  Education and social stratification : the Hind...   \n",
       "737  Water and development : scales, temporalities,...   \n",
       "\n",
       "                                             titres.fr   annee       id_dir  \n",
       "36   Un exemple de modernisation conservatrice : l'...  2003.0  [026960877]  \n",
       "347  Socialisation et performances mathématiques : ...  2005.0  [027187152]  \n",
       "399  Les stratégies participatives des femmes urbai...  2009.0  [027011119]  \n",
       "494  Education et stratification sociale : les comm...  2001.0  [028296591]  \n",
       "737  Eau et Développement : Échelles, temporalités,...  2008.0  [029291232]  \n",
       "\n",
       "[5 rows x 215 columns]"
      ]
     },
     "execution_count": 12,
     "metadata": {},
     "output_type": "execute_result"
    }
   ],
   "source": [
    "df_ss2.head(\n",
    ")"
   ]
  },
  {
   "cell_type": "markdown",
   "id": "a69bb27e",
   "metadata": {},
   "source": [
    "Sauvegarder le dataframe"
   ]
  },
  {
   "cell_type": "code",
   "execution_count": 11,
   "id": "aa63dc36",
   "metadata": {},
   "outputs": [],
   "source": [
    "df_ss2.to_csv(\"theses_soutenues_sup2000_socio.csv\", index=False)"
   ]
  },
  {
   "cell_type": "markdown",
   "id": "d9535a1f",
   "metadata": {},
   "source": [
    "## Construire le réseau"
   ]
  },
  {
   "cell_type": "code",
   "execution_count": 1,
   "id": "5a834470",
   "metadata": {},
   "outputs": [],
   "source": [
    "import matplotlib.pyplot as plt\n",
    "import networkx as nx\n",
    "import itertools"
   ]
  },
  {
   "cell_type": "code",
   "execution_count": 13,
   "id": "46d26396",
   "metadata": {},
   "outputs": [],
   "source": [
    "G = nx.Graph()\n",
    "for _, row in df_ss2.iterrows():\n",
    "    for dir in row[\"id_dir\"]:\n",
    "        dir = str(dir)\n",
    "        if not G.has_node(dir):\n",
    "            G.add_node(dir, label=dir, weight=1)\n",
    "        else:\n",
    "            G.nodes[dir][\"weight\"] += 1\n",
    "    for i,j in itertools.combinations(row[\"id_dir\"], 2):\n",
    "        i = str(i)\n",
    "        j = str(j)\n",
    "        if G.has_edge(i, j):\n",
    "            G[i][j][\"weight\"] += 1\n",
    "        else:\n",
    "            G.add_edge(i, j, weight=1)"
   ]
  },
  {
   "cell_type": "code",
   "execution_count": 14,
   "id": "413b274a",
   "metadata": {},
   "outputs": [
    {
     "name": "stdout",
     "output_type": "stream",
     "text": [
      "Graph with 1899 nodes and 1092 edges\n"
     ]
    }
   ],
   "source": [
    "print(G)"
   ]
  },
  {
   "cell_type": "markdown",
   "id": "88593f2b",
   "metadata": {},
   "source": [
    "Ajouter des attributs"
   ]
  },
  {
   "cell_type": "code",
   "execution_count": 17,
   "id": "51b3e4d2",
   "metadata": {},
   "outputs": [],
   "source": [
    "nx.set_node_attributes(G, dic_dir, \"directeur\")"
   ]
  },
  {
   "cell_type": "markdown",
   "id": "5b94c8fb",
   "metadata": {},
   "source": [
    "Représenter une partie du réseau"
   ]
  },
  {
   "cell_type": "code",
   "execution_count": 19,
   "id": "575ceeb2",
   "metadata": {},
   "outputs": [
    {
     "data": {
      "application/vnd.jupyter.widget-view+json": {
       "model_id": "a2391ea1d68645fead00eefb5b7dff3f",
       "version_major": 2,
       "version_minor": 0
      },
      "text/plain": [
       "Sigma(nx.Graph with 1,899 nodes and 1,092 edges)"
      ]
     },
     "execution_count": 19,
     "metadata": {},
     "output_type": "execute_result"
    }
   ],
   "source": [
    "from ipysigma import Sigma\n",
    "Sigma(G, node_size=G.degree, edge_size=\"weight\", node_label=\"directeur\")"
   ]
  },
  {
   "cell_type": "markdown",
   "id": "1e53690b",
   "metadata": {},
   "source": [
    "## Analyser le réseau\n",
    "\n",
    "- Avoir des statistiques générales du réseaux ?\n",
    "- Qui sont les directeurs de thèse les plus centraux ?\n",
    "- Quelle est la plus grande composante du réseau ?"
   ]
  }
 ],
 "metadata": {
  "kernelspec": {
   "display_name": "base",
   "language": "python",
   "name": "python3"
  },
  "language_info": {
   "codemirror_mode": {
    "name": "ipython",
    "version": 3
   },
   "file_extension": ".py",
   "mimetype": "text/x-python",
   "name": "python",
   "nbconvert_exporter": "python",
   "pygments_lexer": "ipython3",
   "version": "3.11.7"
  }
 },
 "nbformat": 4,
 "nbformat_minor": 5
}
